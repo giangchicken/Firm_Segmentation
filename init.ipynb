{
 "cells": [
  {
   "cell_type": "code",
   "execution_count": 2,
   "metadata": {},
   "outputs": [
    {
     "name": "stdout",
     "output_type": "stream",
     "text": [
      "ℹ️ Already exists: __init__.py\n",
      "ℹ️ Already exists: model\\__init__.py\n",
      "ℹ️ Already exists: src\\__init__.py\n",
      "ℹ️ Already exists: src\\embedding\\__init__.py\n",
      "ℹ️ Already exists: src\\similarity_calculation\\__init__.py\n"
     ]
    }
   ],
   "source": [
    "from pathlib import Path\n",
    "\n",
    "folders = [\n",
    "    \".\",\n",
    "    \"model\",\n",
    "    \"src\",\n",
    "    \"src/embedding\",\n",
    "    \"src/similarity_calculation\"\n",
    "]\n",
    "\n",
    "for folder in folders:\n",
    "    init_path = Path(folder) / \"__init__.py\"\n",
    "    if not init_path.exists():\n",
    "        init_path.touch()\n",
    "        print(f\"✅ Created {init_path}\")\n",
    "    else:\n",
    "        print(f\"ℹ️ Already exists: {init_path}\")\n"
   ]
  },
  {
   "cell_type": "code",
   "execution_count": null,
   "metadata": {},
   "outputs": [],
   "source": []
  }
 ],
 "metadata": {
  "kernelspec": {
   "display_name": ".venv",
   "language": "python",
   "name": "python3"
  },
  "language_info": {
   "codemirror_mode": {
    "name": "ipython",
    "version": 3
   },
   "file_extension": ".py",
   "mimetype": "text/x-python",
   "name": "python",
   "nbconvert_exporter": "python",
   "pygments_lexer": "ipython3",
   "version": "3.10.11"
  }
 },
 "nbformat": 4,
 "nbformat_minor": 2
}
